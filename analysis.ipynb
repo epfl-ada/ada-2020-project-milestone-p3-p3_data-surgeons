{
 "cells": [
  {
   "cell_type": "code",
   "execution_count": null,
   "metadata": {},
   "outputs": [],
   "source": [
    "import pandas as pd\n",
    "from IPython.core.debugger import set_trace\n",
    "import datetime\n",
    "import requests\n",
    "from tqdm.notebook import tqdm"
   ]
  },
  {
   "cell_type": "code",
   "execution_count": null,
   "metadata": {},
   "outputs": [],
   "source": [
    "english_names = pd.read_csv('data/articles.csv', header=None)\n",
    "english_names.columns = ['Title']\n",
    "english_names"
   ]
  },
  {
   "cell_type": "code",
   "execution_count": null,
   "metadata": {},
   "outputs": [],
   "source": [
    "def get_qid_from_title(title, language):\n",
    "    response = requests.get(f'https://{language}.wikipedia.org/w/api.php?'\n",
    "                            f'action=query&prop=pageprops&titles={title}&redirects&format=json')\n",
    "    try:\n",
    "        r = [item for item in response.json()['query']['pages'].values()][0]\n",
    "        qid = r['pageprops']['wikibase_item']\n",
    "    except KeyError:\n",
    "        e = 'Article likely not present on Wikipedia'\n",
    "        raise KeyError(e)\n",
    "    return qid"
   ]
  },
  {
   "cell_type": "markdown",
   "metadata": {},
   "source": [
    "### Retrieve wikidata entries for each given article"
   ]
  },
  {
   "cell_type": "code",
   "execution_count": null,
   "metadata": {},
   "outputs": [],
   "source": [
    "qids = pd.DataFrame([get_qid_from_title(title, 'en') for title in english_names.Title.values])\n",
    "qids.head()"
   ]
  },
  {
   "cell_type": "markdown",
   "metadata": {},
   "source": [
    "### English pageview data"
   ]
  },
  {
   "cell_type": "code",
   "execution_count": null,
   "metadata": {},
   "outputs": [],
   "source": [
    "def day_year_to_date(year, days):\n",
    "    return datetime.datetime(year, 1, 1) + datetime.timedelta(days - 1)\n",
    "\n",
    "def get_daily_pageviews(titles, language, years):\n",
    "    data = []\n",
    "    for title in tqdm(titles):\n",
    "        response = requests.get(f'http://petermeissner.de:8880/article/exact/{language}/{title}')\n",
    "        article_data = response.json()['data']\n",
    "        \n",
    "        time_data = {'Article': title}\n",
    "        for yearly_data in article_data:\n",
    "            if yearly_data['year'] in years:  \n",
    "                view_counts = yearly_data['page_view_count'].split(',')\n",
    "                new_entries = {day_year_to_date(int(yearly_data['year']), i+1): int(c) \n",
    "                               for i, c in enumerate(view_counts)}\n",
    "                print(new_entries)\n",
    "                time_data = {**time_data, \n",
    "                             **new_entries}\n",
    "                \n",
    "        data.append(time_data)\n",
    "    \n",
    "    return pd.DataFrame(data)"
   ]
  },
  {
   "cell_type": "code",
   "execution_count": null,
   "metadata": {},
   "outputs": [],
   "source": [
    "privacy_en = get_daily_pageviews(['Tor_(anonymity_network)', 'Tor'], 'en', [2011, 2012, 2013])\n",
    "\n",
    "# use article name as index\n",
    "privacy_en.index = privacy_en.Article\n",
    "privacy_en = privacy_en.drop(['Article'], axis=1)\n",
    "privacy_en"
   ]
  },
  {
   "cell_type": "markdown",
   "metadata": {},
   "source": [
    "### Aggregate into monthly data"
   ]
  },
  {
   "cell_type": "code",
   "execution_count": null,
   "metadata": {},
   "outputs": [],
   "source": [
    "privacy_en.columns = pd.to_datetime(privacy_en.columns)\n",
    "\n",
    "# take monthly cumulative\n",
    "monthly_en = privacy_en.resample('M', axis=1).sum()\n",
    "monthly_en"
   ]
  }
 ],
 "metadata": {
  "kernelspec": {
   "display_name": "cs433proj1",
   "language": "python",
   "name": "local-venv"
  },
  "language_info": {
   "codemirror_mode": {
    "name": "ipython",
    "version": 3
   },
   "file_extension": ".py",
   "mimetype": "text/x-python",
   "name": "python",
   "nbconvert_exporter": "python",
   "pygments_lexer": "ipython3",
   "version": "3.8.6"
  }
 },
 "nbformat": 4,
 "nbformat_minor": 4
}
